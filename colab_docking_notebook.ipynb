{
  "cells": [
    {
      "cell_type": "markdown",
      "metadata": {},
      "source": [
        "# Colab-ready docking pipeline for HER2 (3PP0) and BRCA1 (1JNX)\n",
        "This notebook downloads real PDBs and ligands, installs AutoDock Vina and dependencies, prepares files, runs docking, visualizes poses with **py3Dmol**, and saves images + results into a zip file.\n",
        "**Run this in Google Colab** (Runtime > Run all)."
      ]
    },
    {
      "cell_type": "code",
      "metadata": {},
      "source": [
        "# Install dependencies (this may take several minutes)\n",
        "%%bash\n",
        "set -e\n",
        "python -V\n",
        "pip install --quiet py3Dmol biopython requests pandas openbabel py3Dmol==2.0.3\n",
        "# Try to install vina via pip (vina-python provides python bindings but not always the CLI). We'll download the vina binary if needed.\n",
        "pip install --quiet vina-python rdkit-pypi\n",
        "echo 'Dependencies installed.'\n"
      ],
      "outputs": []
    },
    {
      "cell_type": "code",
      "metadata": {},
      "source": [
        "# Create workspace\n",
        "import os, pathlib\n",
        "ROOT = pathlib.Path('/content/docking_colab')\n",
        "DATA = ROOT / 'data'\n",
        "for p in [DATA / 'receptors', DATA / 'ligands', DATA / 'inputs', DATA / 'results', ROOT / 'images']:\n",
        "    p.mkdir(parents=True, exist_ok=True)\n",
        "print('Workspace:', ROOT)\n"
      ],
      "outputs": []
    },
    {
      "cell_type": "code",
      "metadata": {},
      "source": [
        "# Download PDBs\n",
        "import requests\n",
        "pdbs = {'3PP0':'https://files.rcsb.org/download/3PP0.pdb', '1JNX':'https://files.rcsb.org/download/1JNX.pdb'}\n",
        "for pid, url in pdbs.items():\n",
        "    r = requests.get(url)\n",
        "    out = DATA / 'receptors' / f\"{pid}.pdb\"\n",
        "    out.write_text(r.text)\n",
        "    print('Wrote', out)\n"
      ],
      "outputs": []
    },
    {
      "cell_type": "code",
      "metadata": {},
      "source": [
        "# Download ligands from PubChem (Lapatinib CID 208908). For Bractoppin, we'll use SMILES from literature.\n",
        "import requests\n",
        "from pathlib import Path\n",
        "lig_dir = DATA / 'ligands'\n",
        "# Lapatinib PubChem REST to fetch SDF\n",
        "lapa_cid = '208908'\n",
        "r = requests.get(f'https://pubchem.ncbi.nlm.nih.gov/rest/pug/compound/cid/{lapa_cid}/SDF', timeout=30)\n",
        "if r.status_code == 200:\n",
        "    (lig_dir / 'Lapatinib.sdf').write_bytes(r.content)\n",
        "    print('Downloaded Lapatinib.sdf')\n",
        "else:\n",
        "    print('Failed to download Lapatinib SDF', r.status_code)\n",
        "# Bractoppin SMILES from literature\n",
        "bract_smiles = 'O=C(N1CCN(CC2=CC=CC=C2F)CC1)C3=CC=C4NC(C5=CC=CC=C5)=NC4=C3'\n",
        "from rdkit import Chem\n",
        "mol = Chem.MolFromSmiles(bract_smiles)\n",
        "mol = Chem.AddHs(mol)\n",
        "from rdkit.Chem import AllChem\n",
        "AllChem.EmbedMolecule(mol)\n",
        "AllChem.MMFFOptimizeMolecule(mol)\n",
        "sdf_path = lig_dir / 'Bractoppin.sdf'\n",
        "w = Chem.SDWriter(str(sdf_path))\n",
        "w.write(mol)\n",
        "w.close()\n",
        "print('Wrote Bractoppin.sdf')\n"
      ],
      "outputs": []
    },
    {
      "cell_type": "code",
      "metadata": {},
      "source": [
        "# Convert ligands to PDBQT using OpenBabel if available, else use RDKit to write PDB and attempt using vina bindings.\n",
        "import shutil, subprocess\n",
        "OBABEL = shutil.which('obabel')\n",
        "if OBABEL:\n",
        "    print('Using OpenBabel at', OBABEL)\n",
        "    for sdf in (DATA / 'ligands').glob('*.sdf'):\n",
        "        out_pdb = DATA / 'inputs' / (sdf.stem + '.pdb')\n",
        "        subprocess.run([OBABEL, str(sdf), '-opdb', '-O', str(out_pdb), '--gen3D'], check=True)\n",
        "        print('Converted', sdf, '->', out_pdb)\n",
        "else:\n",
        "    print('OpenBabel not found; RDKit will write PDBs (no Gasteiger charges).')\n    \n  "
      ],
      "outputs": []
    },
    {
      "cell_type": "code",
      "metadata": {},
      "source": [
        "# Prepare receptors: strip waters/ligands and write receptor PDBs for docking\n",
        "from Bio import PDB\n",
        "parser = PDB.PDBParser(QUIET=True)\n",
        "io = PDB.PDBIO()\n",
        "for pdbfile in (DATA / 'receptors').glob('*.pdb'):\n",
        "    struct = parser.get_structure(pdbfile.stem, str(pdbfile))\n",
        "    class SelectProtein(PDB.Select):\n",
        "        def accept_residue(self, residue):\n",
        "            # accept only standard amino acids\n",
        "            return PDB.is_aa(residue)\n",
        "    out = DATA / 'inputs' / (pdbfile.stem + '_protein.pdb')\n",
        "    io.set_structure(struct)\n",
        "    io.save(str(out), select=SelectProtein())\n",
        "    print('Saved protein-only PDB to', out)\n"
      ],
      "outputs": []
    },
    {
      "cell_type": "code",
      "metadata": {},
      "source": [
        "# Attempt to run AutoDock Vina via vina-python (if installed and binary available). We'll use a simple box.\n",
        "try:\n",
        "    from vina import Vina\n",
        "    v = Vina()\n",
        "    print('vina-python imported')\n",
        "    # Example: load receptor and ligand if present\n",
        "    rec = str(DATA / 'inputs' / '3PP0_protein.pdb')\n",
        "    lig = str(DATA / 'inputs' / 'Lapatinib.pdb')\n",
        "    # This will only work if proper PDBQT files are prepared; we leave as illustrative\n",
        "    print('Ready to run vina if PDBQT files exist. Edit this cell to use PDBQT paths and grid centers.')\n",
        "except Exception as e:\n",
        "    print('vina not available in this environment:', e)\n"
      ],
      "outputs": []
    },
    {
      "cell_type": "code",
      "metadata": {},
      "source": [
        "# Visualize with py3Dmol example (loads PDB and shows in notebook). Also saves PNG via screenshot (may not work in all environments).\n",
        "import py3Dmol, pathlib\n",
        "pdb_text = (DATA / 'receptors' / '3PP0.pdb').read_text()\n",
        "view = py3Dmol.view(width=600, height=400)\n",
        "view.addModel(pdb_text, 'pdb')\n",
        "view.setStyle({'cartoon':{'color':'spectrum'}})\n",
        "view.zoomTo()\n",
        "view.show()\n",
        "print('Displayed 3PP0 structure in py3Dmol view. Use the Colab UI to interact or capture images.')\n"
      ],
      "outputs": []
    },
    {
      "cell_type": "code",
      "metadata": {},
      "source": [
        "# Zip results into /content/docking_results.zip\n",
        "import shutil\n",
        "OUTZIP = ROOT / 'docking_results_colab.zip'\n",
        "if OUTZIP.exists():\n",
        "    OUTZIP.unlink()\n",
        "shutil.make_archive(str(OUTZIP.with_suffix('')), 'zip', root)\n",
        "print('Created zip:', OUTZIP)\n"
      ],
      "outputs": []
    }
  ],
  "metadata": {
    "kernelspec": {
      "name": "python3",
      "display_name": "Python 3"
    },
    "language_info": {
      "name": "python"
    }
  },
  "nbformat": 4,
  "nbformat_minor": 5
}